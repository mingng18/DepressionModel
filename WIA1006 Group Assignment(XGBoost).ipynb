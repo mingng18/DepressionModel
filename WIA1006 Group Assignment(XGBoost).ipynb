{
 "cells": [
  {
   "cell_type": "code",
   "execution_count": 5,
   "id": "1bbefd38",
   "metadata": {},
   "outputs": [],
   "source": [
    "#Import all the libraries required\n",
    "\n",
    "import pandas as pd\n",
    "import numpy as np\n",
    "import matplotlib.pyplot as plt\n",
    "from sklearn import metrics\n",
    "import numpy as np\n",
    "from sklearn import preprocessing\n",
    "from sklearn.linear_model import LogisticRegression\n",
    "from sklearn.model_selection import train_test_split\n",
    "from sklearn.metrics import confusion_matrix,classification_report\n",
    "from sklearn.ensemble import RandomForestClassifier\n",
    "# import xgboost\n",
    "from sklearn.model_selection import RandomizedSearchCV"
   ]
  },
  {
   "cell_type": "code",
   "execution_count": 6,
   "id": "e0b49028",
   "metadata": {},
   "outputs": [],
   "source": [
    "#Fetch data from the csv file\n",
    "\n",
    "data = pd.read_csv(\"BDI-SPEECH-QUESTION_number.csv\")"
   ]
  },
  {
   "cell_type": "code",
   "execution_count": 7,
   "id": "c82ac428",
   "metadata": {},
   "outputs": [],
   "source": [
    "#Preprocessing data to remove unused data\n",
    "\n",
    "#data.drop('ID ',axis=1, inplace=True)\n",
    "#data.dropna(inplace=True)\n",
    "y = data['Label']\n",
    "data.drop('Label', axis=1, inplace=True)"
   ]
  },
  {
   "cell_type": "code",
   "execution_count": 8,
   "id": "e9c1f7cf",
   "metadata": {},
   "outputs": [
    {
     "name": "stdout",
     "output_type": "stream",
     "text": [
      "(320, 28)\n",
      "['Jantina (0:Perempuan. 1:Lelaki)', 'Bangsa (0:Melayu, 1:Cina, 2:India, 3:Lain-lain)', 'Umur', 'Status perkahwinan (0:Bujang, 1:Berkahwin, 2:Bercerai, 3:Kematian pasangan)', 'Kategori Jumlah anak (0:0, 1:1-2, 2:3-4, 3:5+)', 'Tahap pendidikan (0:Sekolah Menengah, 1:Diploma atau Sijil, 2:Ijazah Sarjana Muda, 3:Ijazah Sarjana atau Doktor Falsafah)', 'Status kerja (0:Sepenuh masa atau tetap, 1:Separuh masa, 2:Sambung belajar, 3:Suri rumah, 4:Tidak bekerja)', 'Tahap kesihatan', '1 Kesedihan', '2 Pesimis', '3 Kegagalan Lalu', '4 Hilang Kepuasan', '5 Rasa Bersalah', '6 Rasa Dihukum', '7 Tidak suka diri sendiri', '8 Kritik diri sendiri', '9 Fikir untuk bunuh diri', '10 Menangis', '11 Sakit hati', '12 Hilang minat', '13 Sukar buat keputusan', '14 Tak berguna', '15 Hilang tenaga', '16 Perubahan tidur', '17 Terganggu', '18 Perubahan selera', '19 Masalah berat badan', '20 Risau keadaan fizikal']\n"
     ]
    }
   ],
   "source": [
    "#Visualizing the shape of features and the features\n",
    "\n",
    "print(data.shape)\n",
    "print(list(data.columns))"
   ]
  },
  {
   "cell_type": "code",
   "execution_count": null,
   "id": "8d0f583a",
   "metadata": {},
   "outputs": [],
   "source": [
    "print(data)"
   ]
  },
  {
   "cell_type": "code",
   "execution_count": null,
   "id": "1eb8837c",
   "metadata": {},
   "outputs": [],
   "source": [
    "print(y.shape)\n",
    "print(y)"
   ]
  },
  {
   "cell_type": "code",
   "execution_count": null,
   "id": "0c02bc9a",
   "metadata": {},
   "outputs": [],
   "source": [
    "#Splitting the datasets into training and testing sets\n",
    "\n",
    "X_train, X_test, y_train, y_test = train_test_split(data, y, test_size=0.2, random_state=20, shuffle=True)"
   ]
  },
  {
   "cell_type": "code",
   "execution_count": null,
   "id": "e48b81f6",
   "metadata": {},
   "outputs": [],
   "source": [
    "#Training model\n",
    "classifier = xgboost.XGBClassifier(tree_method='gpu_hist')\n",
    "\n",
    "params = {\n",
    "        \"learning_rate\" :[0.05,0.10,0.15,0.20,0.25,0.30],\n",
    "        \"max_depth\": [2,3,4,5,6,7,8,10,12,15],\n",
    "        \"min_child_weight\" : [1,3,5,7],\n",
    "        \"gamma\": [0.0,0.1,0.2,0.3,0.4],\n",
    "        \"colsample_bytree\" : [0.3,0.4,0.5,0.7]}\n",
    "\n",
    "clf = RandomizedSearchCV(classifier, param_distributions = params, n_iter=5, scoring = 'accuracy' , cv =5 , verbose=3  )\n",
    "\n",
    "clf.fit(X_train,y_train)\n",
    "\n",
    "\n",
    "#classifier = LogisticRegression(solver='lbfgs',random_state=0,max_iter=10000,multi_class= 'auto')\n",
    "#classifier.fit(X_train, y_train)"
   ]
  },
  {
   "cell_type": "code",
   "execution_count": null,
   "id": "3833a307",
   "metadata": {},
   "outputs": [],
   "source": [
    "#Checking the classes after training\n",
    "clf.best_params_\n"
   ]
  },
  {
   "cell_type": "code",
   "execution_count": null,
   "id": "7b5d8510",
   "metadata": {},
   "outputs": [],
   "source": [
    "clf.best_estimator_"
   ]
  },
  {
   "cell_type": "code",
   "execution_count": null,
   "id": "3c0627c4",
   "metadata": {},
   "outputs": [],
   "source": [
    "from sklearn import metrics\n",
    "from sklearn.model_selection import cross_val_score\n",
    "from sklearn.metrics import accuracy_score\n",
    "final_model = xgboost.XGBClassifier(base_score=0.5, booster='gbtree', callbacks=None,\n",
    "              colsample_bylevel=1, colsample_bynode=1, colsample_bytree=0.3,\n",
    "              early_stopping_rounds=None, enable_categorical=False,\n",
    "              eval_metric=None, gamma=0.2, gpu_id=0, grow_policy='depthwise',\n",
    "              importance_type=None, interaction_constraints='',\n",
    "              learning_rate=0.15, max_bin=256, max_cat_to_onehot=4,\n",
    "              max_delta_step=0, max_depth=3, max_leaves=0, min_child_weight=7,\n",
    "              monotone_constraints='()', n_estimators=100,\n",
    "              n_jobs=0, num_parallel_tree=1, objective='multi:softprob',\n",
    "              predictor='auto', random_state=0, reg_alpha=0)\n",
    "\n",
    "final_model.fit(X_train,y_train)\n",
    "\n",
    "pred_xgboost = final_model.predict(X_test)\n",
    "\n"
   ]
  },
  {
   "cell_type": "code",
   "execution_count": null,
   "id": "60533c00",
   "metadata": {},
   "outputs": [],
   "source": [
    "print(classification_report(y_test,final_model.predict(X_test)))\n",
    "accuracy = final_model.predict(X_test)\n",
    "metrics.accuracy_score(accuracy, y_test)"
   ]
  },
  {
   "cell_type": "code",
   "execution_count": null,
   "id": "05cd06b3",
   "metadata": {},
   "outputs": [],
   "source": [
    "# Return the probabilty of getting positive outcome for every class\n",
    "\n",
    "classifier.predict_proba(X_test)"
   ]
  },
  {
   "cell_type": "code",
   "execution_count": null,
   "id": "05d6ba01",
   "metadata": {},
   "outputs": [],
   "source": [
    "#Predict the class\n",
    "\n",
    "classifier.predict(X_test)"
   ]
  },
  {
   "cell_type": "code",
   "execution_count": null,
   "id": "62b14f8d",
   "metadata": {},
   "outputs": [],
   "source": [
    "classifier.score(X_test,y_test)"
   ]
  },
  {
   "cell_type": "code",
   "execution_count": null,
   "id": "f7f648c6",
   "metadata": {},
   "outputs": [],
   "source": [
    "print(classification_report(y_test,classifier.predict(X_test)))"
   ]
  },
  {
   "cell_type": "code",
   "execution_count": null,
   "id": "192e2be3",
   "metadata": {},
   "outputs": [],
   "source": [
    "accuracy = classifier.predict(X_test)\n",
    "metrics.accuracy_score(accuracy, y_test)"
   ]
  },
  {
   "cell_type": "code",
   "execution_count": null,
   "id": "62e9b0e9",
   "metadata": {},
   "outputs": [],
   "source": []
  }
 ],
 "metadata": {
  "kernelspec": {
   "display_name": "Python 3.10.0 64-bit",
   "language": "python",
   "name": "python3"
  },
  "language_info": {
   "codemirror_mode": {
    "name": "ipython",
    "version": 3
   },
   "file_extension": ".py",
   "mimetype": "text/x-python",
   "name": "python",
   "nbconvert_exporter": "python",
   "pygments_lexer": "ipython3",
   "version": "3.10.0"
  },
  "vscode": {
   "interpreter": {
    "hash": "13d3a56261a5da9eba090739ba21f7a7bbbaae4166ca4c43f55a9a11962cdf13"
   }
  }
 },
 "nbformat": 4,
 "nbformat_minor": 5
}
