{
 "cells": [
  {
   "cell_type": "markdown",
   "id": "02c6c5e1",
   "metadata": {},
   "source": [
    "# Depression Level Indicator\n",
    "## Group 46\n",
    "\n",
    "This is the code for training the dataset to exporting the model for prediction."
   ]
  },
  {
   "cell_type": "markdown",
   "id": "29ed57f1",
   "metadata": {},
   "source": [
    "Import all the required library."
   ]
  },
  {
   "cell_type": "code",
   "execution_count": 21,
   "id": "8e892a4d",
   "metadata": {},
   "outputs": [],
   "source": [
    "import numpy as np\n",
    "import pandas as pd\n",
    "import matplotlib.pyplot as plt\n",
    "from sklearn.discriminant_analysis import LinearDiscriminantAnalysis\n",
    "from sklearn.model_selection import cross_val_score\n",
    "import pickle as pk"
   ]
  },
  {
   "cell_type": "markdown",
   "id": "8957a8e1",
   "metadata": {},
   "source": [
    "Initialise the color as well as the vectorizer."
   ]
  },
  {
   "cell_type": "code",
   "execution_count": null,
   "id": "80924877",
   "metadata": {},
   "outputs": [],
   "source": [
    "colors = ['royalblue','red','deeppink','maroon','mediumorchid','tan','forestgreen']\n",
    "vectorizer = np.vectorize(lambda x: colors[x % len(colors)])"
   ]
  },
  {
   "cell_type": "markdown",
   "id": "22d59668",
   "metadata": {},
   "source": [
    "Read the dataset and output X and y."
   ]
  },
  {
   "cell_type": "code",
   "execution_count": 33,
   "id": "13800732",
   "metadata": {},
   "outputs": [],
   "source": [
    "dataset = pd.read_csv(\"dataset.csv\")\n",
    "X = dataset[['1 Kesedihan','2 Pesimis','3 Kegagalan Lalu','4 Hilang Kepuasan','5 Rasa Bersalah','6 Rasa Dihukum','7 Tidak suka diri sendiri','8 Kritik diri sendiri','9 Fikir untuk bunuh diri','10 Menangis','11 Sakit hati','12 Hilang minat','13 Sukar buat keputusan','14 Tak berguna','15 Hilang tenaga','16 Perubahan tidur','17 Terganggu','18 Perubahan selera','19 Masalah berat badan','20 Risau keadaan fizikal']]\n",
    "y = dataset[\"Label\"]"
   ]
  },
  {
   "cell_type": "markdown",
   "id": "b279f416",
   "metadata": {},
   "source": [
    "Import model and input the dataset into the model to train the model."
   ]
  },
  {
   "cell_type": "code",
   "execution_count": 34,
   "id": "10c3b674",
   "metadata": {},
   "outputs": [],
   "source": [
    "lda = LinearDiscriminantAnalysis(n_components=2)\n",
    "X_r2 = lda.fit(X,y).transform(X)"
   ]
  },
  {
   "cell_type": "markdown",
   "id": "bc2366b8",
   "metadata": {},
   "source": [
    "Do prediction on the trained model"
   ]
  },
  {
   "cell_type": "code",
   "execution_count": 35,
   "id": "95b19d82",
   "metadata": {},
   "outputs": [
    {
     "name": "stdout",
     "output_type": "stream",
     "text": [
      "Accuracy: 0.87 (+/- 0.23)\n"
     ]
    }
   ],
   "source": [
    "scores = cross_val_score(lda, X, y, cv=48)\n",
    "print('Accuracy: %0.2f (+/- %0.2f)' % (scores.mean(), scores.std()*2))"
   ]
  },
  {
   "cell_type": "markdown",
   "id": "b4a7fefa",
   "metadata": {},
   "source": []
  },
  {
   "cell_type": "code",
   "execution_count": 36,
   "id": "0d477e34",
   "metadata": {},
   "outputs": [
    {
     "data": {
      "text/plain": [
       "array([0.97843638, 0.01570872])"
      ]
     },
     "execution_count": 36,
     "metadata": {},
     "output_type": "execute_result"
    }
   ],
   "source": [
    "lda.explained_variance_ratio_\n",
    "plt.scatter(X_r2[:,0],X_r2[:,1], c=vectorizer(y))"
   ]
  },
  {
   "cell_type": "code",
   "execution_count": 38,
   "id": "5f59d4fd",
   "metadata": {},
   "outputs": [],
   "source": [
    "filename = \"depression_model.sav\"\n",
    "pk.dump(lda, open(filename, 'wb'))"
   ]
  }
 ],
 "metadata": {
  "kernelspec": {
   "display_name": "Python 3.10.0 64-bit",
   "language": "python",
   "name": "python3"
  },
  "language_info": {
   "codemirror_mode": {
    "name": "ipython",
    "version": 3
   },
   "file_extension": ".py",
   "mimetype": "text/x-python",
   "name": "python",
   "nbconvert_exporter": "python",
   "pygments_lexer": "ipython3",
   "version": "3.10.0"
  },
  "vscode": {
   "interpreter": {
    "hash": "13d3a56261a5da9eba090739ba21f7a7bbbaae4166ca4c43f55a9a11962cdf13"
   }
  }
 },
 "nbformat": 4,
 "nbformat_minor": 5
}
